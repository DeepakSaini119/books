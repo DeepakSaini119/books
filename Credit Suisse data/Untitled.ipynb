{
 "cells": [
  {
   "cell_type": "code",
   "execution_count": 25,
   "metadata": {
    "collapsed": false
   },
   "outputs": [],
   "source": [
    "import plotly.plotly as py\n",
    "import plotly.graph_objs as go\n",
    "import plotly\n",
    "# Create random data with numpy\n",
    "import numpy as np\n",
    "plotly.tools.set_credentials_file(username='sainideepak119', api_key='X6vwN8OWBMVmHGZhJecY')"
   ]
  },
  {
   "cell_type": "code",
   "execution_count": 10,
   "metadata": {
    "collapsed": true
   },
   "outputs": [],
   "source": [
    "X = [2010,2011,2012,2013,2014,2015,2016,2017]\n",
    "Y1= [68.8,72.6,73.8,73.8,74,76.3,80.7,73.3]\n",
    "Y2 = [40.3,46.8,48.8,48.9,49,53,58.4,45.1]"
   ]
  },
  {
   "cell_type": "code",
   "execution_count": 21,
   "metadata": {
    "collapsed": true
   },
   "outputs": [],
   "source": [
    "trace0 = go.Scatter(\n",
    "    x = X,\n",
    "    y = Y1,\n",
    "    mode = 'lines+markers',\n",
    "    name = 'Top 1%'\n",
    ")\n",
    "trace1 = go.Scatter(\n",
    "    x = X,\n",
    "    y = Y2,\n",
    "    mode = 'lines+markers',\n",
    "    name = 'Top 10%'\n",
    ")"
   ]
  },
  {
   "cell_type": "code",
   "execution_count": 23,
   "metadata": {
    "collapsed": true
   },
   "outputs": [],
   "source": [
    "import os\n",
    "os.environ[\"http_proxy\"]=\"http://proxy62.iitd.ac.in:3128\"\n",
    "os.environ[\"https_proxy\"]=\"https://proxy62.iitd.ac.in:3128\""
   ]
  },
  {
   "cell_type": "code",
   "execution_count": 33,
   "metadata": {
    "collapsed": false
   },
   "outputs": [
    {
     "data": {
      "text/html": [
       "<iframe id=\"igraph\" scrolling=\"no\" style=\"border:none;\" seamless=\"seamless\" src=\"https://plot.ly/~sainideepak119/28.embed\" height=\"525px\" width=\"100%\"></iframe>"
      ],
      "text/plain": [
       "<plotly.tools.PlotlyDisplay object>"
      ]
     },
     "execution_count": 33,
     "metadata": {},
     "output_type": "execute_result"
    }
   ],
   "source": [
    "data = [trace0, trace1]\n",
    "layout = go.Layout(\n",
    "    title=\"Wealth Distribution\",\n",
    "    xaxis=dict(\n",
    "        title='Year'\n",
    "    ),\n",
    "    yaxis=dict(\n",
    "        title='Wealth share in %'\n",
    "    )\n",
    ")\n",
    "fig = go.Figure(data=data, layout=layout)\n",
    "py.iplot(fig, filename='Wealth Distribution')"
   ]
  },
  {
   "cell_type": "code",
   "execution_count": null,
   "metadata": {
    "collapsed": true
   },
   "outputs": [],
   "source": []
  }
 ],
 "metadata": {
  "anaconda-cloud": {},
  "kernelspec": {
   "display_name": "Python [Root]",
   "language": "python",
   "name": "Python [Root]"
  },
  "language_info": {
   "codemirror_mode": {
    "name": "ipython",
    "version": 3
   },
   "file_extension": ".py",
   "mimetype": "text/x-python",
   "name": "python",
   "nbconvert_exporter": "python",
   "pygments_lexer": "ipython3",
   "version": "3.5.2"
  }
 },
 "nbformat": 4,
 "nbformat_minor": 2
}
